{
  "nbformat": 4,
  "nbformat_minor": 0,
  "metadata": {
    "colab": {
      "provenance": []
    },
    "kernelspec": {
      "name": "python3",
      "display_name": "Python 3"
    },
    "language_info": {
      "name": "python"
    }
  },
  "cells": [
    {
      "cell_type": "code",
      "source": [
        "# openaiライブラリのインストール\n",
        "!pip install openai==0.28.1"
      ],
      "metadata": {
        "id": "8KCqo3W2bT-p"
      },
      "execution_count": null,
      "outputs": []
    },
    {
      "cell_type": "code",
      "source": [
        "import os\n",
        "# APIキーを環境変数に登録する（現在のセッションに一時的に保存）\n",
        "os.environ['OPENAI_API_KEY'] = 'ここにAPIキーの値を入力してください'"
      ],
      "metadata": {
        "id": "pBjjhDAzl5U8"
      },
      "execution_count": null,
      "outputs": []
    },
    {
      "cell_type": "code",
      "source": [
        "# 登録した環境変数の値を確認する\n",
        "print(os.environ['OPENAI_API_KEY'])"
      ],
      "metadata": {
        "id": "_7S8dAzgmbqa"
      },
      "execution_count": null,
      "outputs": []
    },
    {
      "cell_type": "code",
      "source": [
        "#Note: The openai-python library support for Azure OpenAI is in preview.\n",
        "import os\n",
        "import openai\n",
        "openai.api_type = \"azure\"\n",
        "openai.api_base = \"<OPENAI_ENDPOINT>\" # エンドポイントを指定\n",
        "openai.api_version = \"2023-03-15-preview\"\n",
        "openai.api_key = os.getenv(\"OPENAI_API_KEY\")\n",
        "\n",
        "response = openai.ChatCompletion.create(\n",
        "  engine=\"OPENAI_DEPLOYMENT\", # モデルのデプロイ名を指定\n",
        "  messages = [\n",
        "      {\"role\":\"system\",\n",
        "       \"content\":\"## 役割\\nあなたは優秀なコピーライターです。ユーザーが提供するお題に対してのコピーを考えてください。\\n## 制約条件\\n・コピーは20文字以内です。\\n・漢字の割合を30％、ひらがなの割合を70％にします。\\n・魅力的且つ印象的なコピーを考えてください。\"},\n",
        "      {\"role\":\"user\",\n",
        "       \"content\":\"ゆず味のアイスキャンディー\"},\n",
        "      {\"role\":\"assistant\",\n",
        "       \"content\":\"\\\"爽やかなゆずの口どけ\\\"\"},\n",
        "      {\"role\":\"user\",\n",
        "       \"content\":\"日向夏のアイスキャンディー\"},\n",
        "      {\"role\":\"assistant\",\n",
        "       \"content\":\"\\\"夏の陽射しを凍らせた至福\\\"\"},\n",
        "      {\"role\":\"user\",\n",
        "       \"content\":\"もう少し砕けた表現にしてください。\"},\n",
        "      {\"role\":\"assistant\",\n",
        "       \"content\":\"\\\"まろやかビター、元気の出る夏味\\\"\"},\n",
        "      # 新しいキャッチコピーの依頼を追加\n",
        "      {\"role\":\"user\",\n",
        "       \"content\":\"\\\"鯖味のソフトクリーム\\\"\"}\n",
        "      ],\n",
        "  temperature=1,\n",
        "  max_tokens=800,\n",
        "  top_p=1,\n",
        "  frequency_penalty=0,\n",
        "  presence_penalty=0,\n",
        "  stop=None)\n",
        "\n",
        "print(response[\"choices\"][0][\"message\"][\"content\"]) # 結果を出力する"
      ],
      "metadata": {
        "id": "YOasZUBqmjWi",
        "colab": {
          "base_uri": "https://localhost:8080/"
        },
        "outputId": "d5b5b920-c378-49d4-a3ba-29e15bc019e6"
      },
      "execution_count": null,
      "outputs": [
        {
          "output_type": "stream",
          "name": "stdout",
          "text": [
            "\"海の風味、濃厚鯖の舞\"\n"
          ]
        }
      ]
    }
  ]
}